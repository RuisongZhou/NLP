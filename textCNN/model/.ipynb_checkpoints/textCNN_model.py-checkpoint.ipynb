{
 "cells": [
  {
   "cell_type": "code",
   "execution_count": 1,
   "metadata": {},
   "outputs": [],
   "source": [
    "#!/usr/bin/env python\n",
    "# -*- coding:utf-8 -*-\n",
    "# @auther: RuisongZhou\n",
    "# @date: 2/8/2019\n",
    "\n",
    "\n",
    "import tensorflow as tf\n",
    "import numpy as np\n",
    "import pdb"
   ]
  },
  {
   "cell_type": "code",
   "execution_count": 4,
   "metadata": {},
   "outputs": [],
   "source": [
    "class TextCNN():\n",
    "    __shuffer_falg = False\n",
    "    __static_falg = True\n",
    "\n",
    "    def __init__(self, W_list, shuffer_falg, static_falg, filter_numbers, filter_size, sentence_length, \\\n",
    "        embedding_size=300, learning_rate=0.05, epochs=10, batch_size=50, dropout_pro=0.5):\n",
    "        '''\n",
    "        W_list: embedding layer's param\n",
    "        shuffer_flag: shuffer the data or not\n",
    "        static_flag: use static train or not\n",
    "\n",
    "        '''\n",
    "        self.__shuffer_falg = shuffer_falg\n",
    "        self.__static_falg = static_falg\n",
    "        self.learning_rate_item = learning_rate\n",
    "        self.epochs = epochs\n",
    "        self.sentence_length = sentence_length\n",
    "        self.filter_numbers = filter_numbers\n",
    "        self.batch_size = batch_size\n",
    "        self.dropout_pro_item = dropout_pro\n",
    "        self.embedding_size = embedding_size\n",
    "\n",
    "        # 1. setting graph\n",
    "        tf.reset_default_graph()\n",
    "        self.train_graph = tf.Graph()\n",
    "        with self.train_graph.as_default():\n",
    "            # 1. input layer\n",
    "            self.input_x = tf.placeholder(dtype=tf.int32,shape=[None,sentence_length],name='input_x')\n",
    "            self.input_y = tf.placeholder(dtype=tf.int32,shape=[None, 2],name='input_y')\n",
    "            self.dropout_pro = tf.placeholder(dtype=tf.float32,name='dropout_pro')\n",
    "            self.learning_rate = tf.placeholder(dtype=tf.float32,name='learning_rate')\n",
    "            self.l2_loss = tf.constant(0.0"
   ]
  },
  {
   "cell_type": "code",
   "execution_count": null,
   "metadata": {},
   "outputs": [],
   "source": [
    "        # 2. embedding layer\n",
    "        with tf.name_scope('embedding_layer'):\n",
    "            train_bool = not self.__static_falg\n",
    "            self.embedding_layer_W = tf.Variable(initial_value=W_list,dtype=tf.float32, trainable=train_bool. name='embedding_layer_W')\n",
    "            "
   ]
  }
 ],
 "metadata": {
  "kernelspec": {
   "display_name": "Python 3",
   "language": "python",
   "name": "python3"
  },
  "language_info": {
   "codemirror_mode": {
    "name": "ipython",
    "version": 3
   },
   "file_extension": ".py",
   "mimetype": "text/x-python",
   "name": "python",
   "nbconvert_exporter": "python",
   "pygments_lexer": "ipython3",
   "version": "3.6.6"
  },
  "toc": {
   "base_numbering": 1,
   "nav_menu": {},
   "number_sections": true,
   "sideBar": true,
   "skip_h1_title": false,
   "title_cell": "Table of Contents",
   "title_sidebar": "Contents",
   "toc_cell": false,
   "toc_position": {},
   "toc_section_display": true,
   "toc_window_display": false
  },
  "varInspector": {
   "cols": {
    "lenName": 16,
    "lenType": 16,
    "lenVar": 40
   },
   "kernels_config": {
    "python": {
     "delete_cmd_postfix": "",
     "delete_cmd_prefix": "del ",
     "library": "var_list.py",
     "varRefreshCmd": "print(var_dic_list())"
    },
    "r": {
     "delete_cmd_postfix": ") ",
     "delete_cmd_prefix": "rm(",
     "library": "var_list.r",
     "varRefreshCmd": "cat(var_dic_list()) "
    }
   },
   "types_to_exclude": [
    "module",
    "function",
    "builtin_function_or_method",
    "instance",
    "_Feature"
   ],
   "window_display": false
  }
 },
 "nbformat": 4,
 "nbformat_minor": 2
}
